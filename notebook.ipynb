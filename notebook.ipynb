{
 "cells": [
  {
   "cell_type": "code",
   "execution_count": 1,
   "metadata": {},
   "outputs": [
    {
     "name": "stdout",
     "output_type": "stream",
     "text": [
      "Health check: {'status': 'healthy'}\n",
      "\n",
      "Basic Skill Gap:\n",
      "{\"status\":\"success\",\"message\":\"Database connection successful and tables listed.\",\"tables\":[{\"name\":\"llm_skill_proficiency_replies\",\"rows\":0},{\"name\":\"llm_skill_proficiency_requests\",\"rows\":0},{\"name\":\"occupation_skills\",\"rows\":30765},{\"name\":\"onet_occupations_api_landing\",\"rows\":0},{\"name\":\"onet_occupations_landing\",\"rows\":1016},{\"name\":\"onet_scales_landing\",\"rows\":29},{\"name\":\"onet_skills_api_landing\",\"rows\":0},{\"name\":\"onet_skills_landing\",\"rows\":61530},{\"name\":\"skills\",\"rows\":35}]}\n"
     ]
    }
   ],
   "source": [
    "# Test api health check\n",
    "import requests\n",
    "import pandas as pd\n",
    "\n",
    "# Base URL for the API\n",
    "base_url = \"http://localhost:8000\"\n",
    "\n",
    "# Test health endpoint\n",
    "response = requests.get(f\"{base_url}/health\")\n",
    "print(f\"Health check: {response.json()}\")\n",
    "\n",
    "response = requests.get(\n",
    "    f\"{base_url}/api/v1/db-diagnostics\"\n",
    "    #params={\"from_onet_soc_code\": from_occupation, \"to_onet_soc_code\": to_occupation}\n",
    ")\n",
    "print(\"\\nBasic Skill Gap:\")\n",
    "print(response.text)                  # <-- ADD THIS LINE"
   ]
  },
  {
   "cell_type": "code",
   "execution_count": 2,
   "metadata": {},
   "outputs": [
    {
     "name": "stdout",
     "output_type": "stream",
     "text": [
      "\n",
      "Basic Skill Gap:\n",
      "{'from_occupation': {'code': '11-1011.00', 'title': 'Chief Executives'},\n",
      " 'skill_gaps': ['Installation', 'Equipment Maintenance', 'Repairing'],\n",
      " 'to_occupation': {'code': '11-3013.00', 'title': 'Facilities Managers'}}\n"
     ]
    }
   ],
   "source": [
    "# Test skill gap endpoint (basic)\n",
    "import pprint\n",
    "from_occupation = \"11-1011.00\"  # Web Developers\n",
    "to_occupation = \"11-3013.00\"    # Computer Systems Analysts\n",
    "\n",
    "response = requests.get(\n",
    "    f\"{base_url}/api/v1/skill-gap\",\n",
    "    params={\"from_occupation\": from_occupation, \"to_occupation\": to_occupation}\n",
    ")\n",
    "print(\"\\nBasic Skill Gap:\")\n",
    "pprint.pprint(response.json())"
   ]
  },
  {
   "cell_type": "code",
   "execution_count": null,
   "metadata": {},
   "outputs": [
    {
     "name": "stdout",
     "output_type": "stream",
     "text": [
      "\n",
      "Detailed Skill Gap Response (JSON):\n",
      "{'from_occupation': {'code': '11-1011.00', 'title': 'Chief Executives'},\n",
      " 'skill_gaps': [{'element_id': '2.B.3.c',\n",
      "                 'from_proficiency': 0.25,\n",
      "                 'skill_name': 'Equipment Selection',\n",
      "                 'to_proficiency': 1.88},\n",
      "                {'element_id': '2.B.3.d',\n",
      "                 'from_proficiency': 0,\n",
      "                 'skill_name': 'Installation',\n",
      "                 'to_proficiency': 0.12},\n",
      "                {'element_id': '2.B.3.e',\n",
      "                 'from_proficiency': 1.0,\n",
      "                 'skill_name': 'Programming',\n",
      "                 'to_proficiency': 1.12},\n",
      "                {'element_id': '2.B.3.g',\n",
      "                 'from_proficiency': 1.5,\n",
      "                 'skill_name': 'Operations Monitoring',\n",
      "                 'to_proficiency': 2.5},\n",
      "                {'element_id': '2.B.3.h',\n",
      "                 'from_proficiency': 1.38,\n",
      "                 'skill_name': 'Operation and Control',\n",
      "                 'to_proficiency': 2.25},\n",
      "                {'element_id': '2.B.3.j',\n",
      "                 'from_proficiency': 0,\n",
      "                 'skill_name': 'Equipment Maintenance',\n",
      "                 'to_proficiency': 2.25},\n",
      "                {'element_id': '2.B.3.k',\n",
      "                 'from_proficiency': 0.5,\n",
      "                 'skill_name': 'Troubleshooting',\n",
      "                 'to_proficiency': 2.25},\n",
      "                {'element_id': '2.B.3.l',\n",
      "                 'from_proficiency': 0,\n",
      "                 'skill_name': 'Repairing',\n",
      "                 'to_proficiency': 1.88},\n",
      "                {'element_id': '2.B.3.m',\n",
      "                 'from_proficiency': 1.12,\n",
      "                 'skill_name': 'Quality Control Analysis',\n",
      "                 'to_proficiency': 2.88}],\n",
      " 'to_occupation': {'code': '11-3013.00', 'title': 'Facilities Managers'}}\n"
     ]
    }
   ],
   "source": [
    "# Test skill gap by level endpoint\n",
    "\n",
    "import pprint\n",
    "from_occupation = \"11-1011.00\"  # Web Developers\n",
    "to_occupation = \"11-3013.00\"    # Computer Systems Analysts\n",
    "\n",
    "response = requests.get(\n",
    "    f\"{base_url}/api/v1/skill-gap-by-lvl\",\n",
    "    params={\"from_occupation\": from_occupation, \"to_occupation\": to_occupation}\n",
    ")\n",
    "print(\"\\nDetailed Skill Gap Response (JSON):\") # You can adjust this print message\n",
    "pprint.pprint(response.json())     "
   ]
  },
  {
   "cell_type": "code",
   "execution_count": null,
   "metadata": {},
   "outputs": [],
   "source": [
    "# Test skill gap by level using llm endpoint\n",
    "\n",
    "import pprint\n",
    "from_occupation = \"11-1011.00\"  # Web Developers\n",
    "to_occupation = \"11-3013.00\"    # Computer Systems Analysts\n",
    "\n",
    "\n",
    "response = requests.get(\n",
    "    f\"{base_url}/api/v1/skill-gap-by-lvl\",\n",
    "    params={\"from_occupation\": from_occupation, \"to_occupation\": to_occupation}\n",
    ")\n",
    "print(\"\\nDetailed Skill Gap Response (JSON):\") # You can adjust this print message\n",
    "pprint.pprint(response.json())     "
   ]
  },
  {
   "cell_type": "code",
   "execution_count": 5,
   "metadata": {},
   "outputs": [],
   "source": [
    "import requests\n",
    "import pandas as pd\n",
    "import io\n",
    "import os\n",
    "\n",
    "from dotenv import load_dotenv\n",
    "\n",
    "# Load environment variables from .env file\n",
    "# The instruction specifies the path 'env/.env'\n",
    "dotenv_path = './env/env.env'\n",
    "load_dotenv(dotenv_path=dotenv_path)\n",
    "\n",
    "# Get credentials from environment variables\n",
    "username = os.environ.get(\"ONET_USERNAME\")\n",
    "password = os.environ.get(\"ONET_PASSWORD\")\n",
    "\n",
    "version = '1.9'\n",
    "base_url = 'https://services.onetcenter.org/v' + version + '/ws/'\n",
    "\n",
    "url = \"https://services.onetcenter.org/v1.9/ws/database/rows/skills\"\n",
    "response = requests.get(url, auth=(username, password), params={'filter': 'onetsoc_code.eq.15-1254.00'})\n",
    "response.raise_for_status() # Raise an exception for bad status codes\n"
   ]
  }
 ],
 "metadata": {
  "kernelspec": {
   "display_name": ".venv",
   "language": "python",
   "name": "python3"
  },
  "language_info": {
   "codemirror_mode": {
    "name": "ipython",
    "version": 3
   },
   "file_extension": ".py",
   "mimetype": "text/x-python",
   "name": "python",
   "nbconvert_exporter": "python",
   "pygments_lexer": "ipython3",
   "version": "3.12.3"
  }
 },
 "nbformat": 4,
 "nbformat_minor": 2
}
